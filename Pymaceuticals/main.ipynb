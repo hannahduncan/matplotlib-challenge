{
 "cells": [
  {
   "cell_type": "code",
   "execution_count": 1,
   "metadata": {},
   "outputs": [],
   "source": [
    "# Observations:\n",
    "# 1. From the bar chart of mouse count by treatment regimen, it is clear that the experiment biased \n",
    "#    Capomulin and Ramicane in terms of testing rate. For more unbiased and reliable data, the company\n",
    "#    should have included equal test subjects across all treatment regimen.\n",
    "# 2. On the other hand, the pie chart of subject sex distrubtion reveals that the experiment did not bias \n",
    "#    for or against a particular sex. This suggests that the results of the experiment are, in theory, replicable\n",
    "#    across all sexes.\n",
    "# 3. From the plot of tumor volume vs. timepoint for mouse s185, there exists a clearly downward trend in tumor size\n",
    "#    over time. Thus, for this particular mouse at least, one could conclude that the treatment was effective.\n",
    "# 4. Lastly, from the plot of mouse weight vs. tumor volume, it appears that weight increased proportionally \n",
    "#    (i.e. approximately in a 1:1 ratio) with increasing tumor volume. This suggests that each mm3 of tumor volume \n",
    "#    added constitutes a significant change in mice's overall weight distribution."
   ]
  },
  {
   "cell_type": "code",
   "execution_count": 2,
   "metadata": {},
   "outputs": [],
   "source": [
    "# Dependencies and Setup\n",
    "import pandas as pd\n",
    "import scipy.stats as sts\n",
    "import numpy as np\n",
    "from scipy.stats import sem\n",
    "from scipy.stats import linregress\n",
    "import matplotlib.pyplot as plt"
   ]
  },
  {
   "cell_type": "code",
   "execution_count": 3,
   "metadata": {},
   "outputs": [
    {
     "data": {
      "text/html": [
       "<div>\n",
       "<style scoped>\n",
       "    .dataframe tbody tr th:only-of-type {\n",
       "        vertical-align: middle;\n",
       "    }\n",
       "\n",
       "    .dataframe tbody tr th {\n",
       "        vertical-align: top;\n",
       "    }\n",
       "\n",
       "    .dataframe thead th {\n",
       "        text-align: right;\n",
       "    }\n",
       "</style>\n",
       "<table border=\"1\" class=\"dataframe\">\n",
       "  <thead>\n",
       "    <tr style=\"text-align: right;\">\n",
       "      <th></th>\n",
       "      <th>Mouse ID</th>\n",
       "      <th>Drug Regimen</th>\n",
       "      <th>Sex</th>\n",
       "      <th>Age_months</th>\n",
       "      <th>Weight (g)</th>\n",
       "      <th>Timepoint</th>\n",
       "      <th>Tumor Volume (mm3)</th>\n",
       "      <th>Metastatic Sites</th>\n",
       "    </tr>\n",
       "  </thead>\n",
       "  <tbody>\n",
       "    <tr>\n",
       "      <th>0</th>\n",
       "      <td>k403</td>\n",
       "      <td>Ramicane</td>\n",
       "      <td>Male</td>\n",
       "      <td>21</td>\n",
       "      <td>16</td>\n",
       "      <td>0</td>\n",
       "      <td>45.000000</td>\n",
       "      <td>0</td>\n",
       "    </tr>\n",
       "    <tr>\n",
       "      <th>1</th>\n",
       "      <td>k403</td>\n",
       "      <td>Ramicane</td>\n",
       "      <td>Male</td>\n",
       "      <td>21</td>\n",
       "      <td>16</td>\n",
       "      <td>5</td>\n",
       "      <td>38.825898</td>\n",
       "      <td>0</td>\n",
       "    </tr>\n",
       "    <tr>\n",
       "      <th>2</th>\n",
       "      <td>k403</td>\n",
       "      <td>Ramicane</td>\n",
       "      <td>Male</td>\n",
       "      <td>21</td>\n",
       "      <td>16</td>\n",
       "      <td>10</td>\n",
       "      <td>35.014271</td>\n",
       "      <td>1</td>\n",
       "    </tr>\n",
       "    <tr>\n",
       "      <th>3</th>\n",
       "      <td>k403</td>\n",
       "      <td>Ramicane</td>\n",
       "      <td>Male</td>\n",
       "      <td>21</td>\n",
       "      <td>16</td>\n",
       "      <td>15</td>\n",
       "      <td>34.223992</td>\n",
       "      <td>1</td>\n",
       "    </tr>\n",
       "    <tr>\n",
       "      <th>4</th>\n",
       "      <td>k403</td>\n",
       "      <td>Ramicane</td>\n",
       "      <td>Male</td>\n",
       "      <td>21</td>\n",
       "      <td>16</td>\n",
       "      <td>20</td>\n",
       "      <td>32.997729</td>\n",
       "      <td>1</td>\n",
       "    </tr>\n",
       "  </tbody>\n",
       "</table>\n",
       "</div>"
      ],
      "text/plain": [
       "  Mouse ID Drug Regimen   Sex  Age_months  Weight (g)  Timepoint  \\\n",
       "0     k403     Ramicane  Male          21          16          0   \n",
       "1     k403     Ramicane  Male          21          16          5   \n",
       "2     k403     Ramicane  Male          21          16         10   \n",
       "3     k403     Ramicane  Male          21          16         15   \n",
       "4     k403     Ramicane  Male          21          16         20   \n",
       "\n",
       "   Tumor Volume (mm3)  Metastatic Sites  \n",
       "0           45.000000                 0  \n",
       "1           38.825898                 0  \n",
       "2           35.014271                 1  \n",
       "3           34.223992                 1  \n",
       "4           32.997729                 1  "
      ]
     },
     "execution_count": 3,
     "metadata": {},
     "output_type": "execute_result"
    }
   ],
   "source": [
    "# Read in data\n",
    "mouse_metadata = pd.read_csv(\"../Resources/mouse_metadata.csv\")\n",
    "study_df = pd.read_csv(\"../Resources/study_results.csv\")\n",
    "\n",
    "# Combine data into a single dataset\n",
    "study_merged_df = pd.merge(mouse_metadata,study_df, on = \"Mouse ID\")\n",
    "study_merged_df.head()"
   ]
  },
  {
   "cell_type": "code",
   "execution_count": 4,
   "metadata": {},
   "outputs": [
    {
     "data": {
      "text/plain": [
       "['g989', 'g989', 'g989', 'g989', 'g989']"
      ]
     },
     "execution_count": 4,
     "metadata": {},
     "output_type": "execute_result"
    }
   ],
   "source": [
    "# Check the number of mice in unclean dataset\n",
    "mouse_count = study_merged_df[\"Mouse ID\"].value_counts()\n",
    "\n",
    "# Find duplicate mice by index & ID number \n",
    "duplicate_rows = study_merged_df.duplicated(subset = [\"Mouse ID\",\"Timepoint\"])\n",
    "\n",
    "index = 0 \n",
    "duplicated_indices = []\n",
    "duplicated_ids = []\n",
    "\n",
    "for row in duplicate_rows:\n",
    "    if (row == True):\n",
    "        duplicated_indices.append(index)\n",
    "    index=index+1\n",
    " \n",
    "for item in duplicated_indices:\n",
    "    duplicated_id = study_merged_df.iloc[item,0]\n",
    "    duplicated_ids.append(duplicated_id)\n",
    "\n",
    "duplicated_ids"
   ]
  },
  {
   "cell_type": "code",
   "execution_count": 5,
   "metadata": {},
   "outputs": [],
   "source": [
    "#Drop duplicated rows by index\n",
    "for item in duplicated_indices:\n",
    "    study_merged_df = study_merged_df.drop(index=item)\n",
    "    \n",
    "# Check the number of mice in the clean dataset\n",
    "mouse_count = study_merged_df[\"Mouse ID\"].value_counts()"
   ]
  },
  {
   "cell_type": "code",
   "execution_count": 6,
   "metadata": {},
   "outputs": [
    {
     "data": {
      "text/html": [
       "<div>\n",
       "<style scoped>\n",
       "    .dataframe tbody tr th:only-of-type {\n",
       "        vertical-align: middle;\n",
       "    }\n",
       "\n",
       "    .dataframe tbody tr th {\n",
       "        vertical-align: top;\n",
       "    }\n",
       "\n",
       "    .dataframe thead th {\n",
       "        text-align: right;\n",
       "    }\n",
       "</style>\n",
       "<table border=\"1\" class=\"dataframe\">\n",
       "  <thead>\n",
       "    <tr style=\"text-align: right;\">\n",
       "      <th></th>\n",
       "      <th>Mean</th>\n",
       "      <th>Median</th>\n",
       "      <th>Variance</th>\n",
       "      <th>Standard Deviation</th>\n",
       "      <th>Standard Error</th>\n",
       "    </tr>\n",
       "    <tr>\n",
       "      <th>Drug Regimen</th>\n",
       "      <th></th>\n",
       "      <th></th>\n",
       "      <th></th>\n",
       "      <th></th>\n",
       "      <th></th>\n",
       "    </tr>\n",
       "  </thead>\n",
       "  <tbody>\n",
       "    <tr>\n",
       "      <th>Capomulin</th>\n",
       "      <td>40.68</td>\n",
       "      <td>41.56</td>\n",
       "      <td>24.95</td>\n",
       "      <td>4.99</td>\n",
       "      <td>0.33</td>\n",
       "    </tr>\n",
       "    <tr>\n",
       "      <th>Ramicane</th>\n",
       "      <td>40.22</td>\n",
       "      <td>40.67</td>\n",
       "      <td>23.49</td>\n",
       "      <td>4.85</td>\n",
       "      <td>0.32</td>\n",
       "    </tr>\n",
       "    <tr>\n",
       "      <th>Ketapril</th>\n",
       "      <td>55.24</td>\n",
       "      <td>53.70</td>\n",
       "      <td>68.55</td>\n",
       "      <td>8.28</td>\n",
       "      <td>0.60</td>\n",
       "    </tr>\n",
       "    <tr>\n",
       "      <th>Naftisol</th>\n",
       "      <td>54.33</td>\n",
       "      <td>52.51</td>\n",
       "      <td>66.17</td>\n",
       "      <td>8.13</td>\n",
       "      <td>0.60</td>\n",
       "    </tr>\n",
       "    <tr>\n",
       "      <th>Zoniferol</th>\n",
       "      <td>53.24</td>\n",
       "      <td>51.82</td>\n",
       "      <td>48.53</td>\n",
       "      <td>6.97</td>\n",
       "      <td>0.52</td>\n",
       "    </tr>\n",
       "    <tr>\n",
       "      <th>Stelasyn</th>\n",
       "      <td>54.23</td>\n",
       "      <td>52.43</td>\n",
       "      <td>59.45</td>\n",
       "      <td>7.71</td>\n",
       "      <td>0.57</td>\n",
       "    </tr>\n",
       "    <tr>\n",
       "      <th>Placebo</th>\n",
       "      <td>54.03</td>\n",
       "      <td>52.29</td>\n",
       "      <td>61.17</td>\n",
       "      <td>7.82</td>\n",
       "      <td>0.58</td>\n",
       "    </tr>\n",
       "    <tr>\n",
       "      <th>Ceftamin</th>\n",
       "      <td>52.59</td>\n",
       "      <td>51.78</td>\n",
       "      <td>39.29</td>\n",
       "      <td>6.27</td>\n",
       "      <td>0.47</td>\n",
       "    </tr>\n",
       "    <tr>\n",
       "      <th>Infubinol</th>\n",
       "      <td>52.88</td>\n",
       "      <td>51.82</td>\n",
       "      <td>43.13</td>\n",
       "      <td>6.57</td>\n",
       "      <td>0.49</td>\n",
       "    </tr>\n",
       "    <tr>\n",
       "      <th>Propriva</th>\n",
       "      <td>52.39</td>\n",
       "      <td>50.91</td>\n",
       "      <td>43.14</td>\n",
       "      <td>6.57</td>\n",
       "      <td>0.53</td>\n",
       "    </tr>\n",
       "  </tbody>\n",
       "</table>\n",
       "</div>"
      ],
      "text/plain": [
       "               Mean  Median  Variance  Standard Deviation  Standard Error\n",
       "Drug Regimen                                                             \n",
       "Capomulin     40.68   41.56     24.95                4.99            0.33\n",
       "Ramicane      40.22   40.67     23.49                4.85            0.32\n",
       "Ketapril      55.24   53.70     68.55                8.28            0.60\n",
       "Naftisol      54.33   52.51     66.17                8.13            0.60\n",
       "Zoniferol     53.24   51.82     48.53                6.97            0.52\n",
       "Stelasyn      54.23   52.43     59.45                7.71            0.57\n",
       "Placebo       54.03   52.29     61.17                7.82            0.58\n",
       "Ceftamin      52.59   51.78     39.29                6.27            0.47\n",
       "Infubinol     52.88   51.82     43.13                6.57            0.49\n",
       "Propriva      52.39   50.91     43.14                6.57            0.53"
      ]
     },
     "execution_count": 6,
     "metadata": {},
     "output_type": "execute_result"
    }
   ],
   "source": [
    "# Generate a summary statistics table for tumor volume for each regimen by combining stats series into stats DataFrame\n",
    "summary_stats = []\n",
    "stats_dict = {}\n",
    "\n",
    "drugs_list = study_merged_df[\"Drug Regimen\"].value_counts()\n",
    "drugs_df = pd.DataFrame(drugs_list)\n",
    "drug_regimen = drugs_df.index\n",
    "\n",
    "for drug in drug_regimen:\n",
    "    drug_vol_df = study_merged_df.loc[study_merged_df[\"Drug Regimen\"] == drug,\"Tumor Volume (mm3)\"]\n",
    "    vol_mean = round(np.mean(drug_vol_df),2)\n",
    "    vol_median = round(np.median(drug_vol_df),2)\n",
    "    vol_var = round(drug_vol_df.var(),2)\n",
    "    vol_stdev = round(drug_vol_df.std(),2)\n",
    "    vol_sem = round(sem(drug_vol_df),2)\n",
    "    stats_dict = {\"Drug Regimen\": drug, \"Mean\": vol_mean, \"Median\": vol_median, \"Variance\": vol_var, \n",
    "                 \"Standard Deviation\": vol_stdev, \"Standard Error\":vol_sem}\n",
    "    summary_stats.append(stats_dict)\n",
    "\n",
    "summary_df = pd.DataFrame(summary_stats)\n",
    "summary_df = summary_df.set_index(\"Drug Regimen\")\n",
    "summary_df"
   ]
  },
  {
   "cell_type": "code",
   "execution_count": 7,
   "metadata": {},
   "outputs": [
    {
     "data": {
      "image/png": "[encoded data removed]",
      "text/plain": [
       "<Figure size 432x288 with 1 Axes>"
      ]
     },
     "metadata": {
      "needs_background": "light"
     },
     "output_type": "display_data"
    }
   ],
   "source": [
    "# Generate bar plot of mouse count for each treatment using pandas\n",
    "drugs_plot = drugs_list.plot(kind = \"bar\")\n",
    "\n",
    "plt.title(\"Drug Regimes\")\n",
    "plt.ylabel(\"Mouse Count\")\n",
    "plt.show()"
   ]
  },
  {
   "cell_type": "code",
   "execution_count": 10,
   "metadata": {},
   "outputs": [
    {
     "data": {
      "image/png": "[encoded data removed]",
      "text/plain": [
       "<Figure size 432x288 with 1 Axes>"
      ]
     },
     "metadata": {
      "needs_background": "light"
     },
     "output_type": "display_data"
    }
   ],
   "source": [
    "# Generate bar plot of mouse count for each treatment using pyplot\n",
    "x_axis = drug_regimen\n",
    "y_axis = []\n",
    "\n",
    "for i in drugs_list:\n",
    "    y_axis.append(i)\n",
    "\n",
    "plt.bar(x_axis,y_axis)\n",
    "plt.title(\"Drug Regimes\")\n",
    "plt.ylabel(\"Mouse Count\")\n",
    "plt.xticks(rotation=90)\n",
    "plt.show()"
   ]
  },
  {
   "cell_type": "code",
   "execution_count": 11,
   "metadata": {},
   "outputs": [
    {
     "data": {
      "image/png": "[encoded data removed]",
      "text/plain": [
       "<Figure size 432x288 with 1 Axes>"
      ]
     },
     "metadata": {},
     "output_type": "display_data"
    }
   ],
   "source": [
    "# Generate pie plot showing the distribution of female versus male mice using pyplot\n",
    "\n",
    "sex_df = study_merged_df[\"Sex\"]\n",
    "sex_series = sex_df.value_counts()\n",
    "labels = sex_series.index\n",
    "\n",
    "sex_plot = plt.pie(sex_series,startangle=140,labels=labels,autopct=\"%1.1f%%\")\n",
    "plt.title(\"Sex\")\n",
    "plt.show()"
   ]
  },
  {
   "cell_type": "code",
   "execution_count": 12,
   "metadata": {},
   "outputs": [
    {
     "data": {
      "image/png": "[encoded data removed]",
      "text/plain": [
       "<Figure size 432x288 with 1 Axes>"
      ]
     },
     "metadata": {},
     "output_type": "display_data"
    }
   ],
   "source": [
    "# Generate pie plot showing the distribution of female versus male mice using pandas\n",
    "sex_series.plot(kind=\"pie\",startangle=140,autopct=\"%1.1f%%\")\n",
    "plt.title(\"Sex\")\n",
    "plt.ylabel('')\n",
    "plt.show()"
   ]
  },
  {
   "cell_type": "code",
   "execution_count": 13,
   "metadata": {},
   "outputs": [],
   "source": [
    "# Calculate the final tumor volume of each mouse across four of the treatment regimens\n",
    "mice_list = study_merged_df[\"Mouse ID\"].value_counts()\n",
    "mice_df = pd.DataFrame(mice_list)\n",
    "mouse_ids = mice_df.index\n",
    "\n",
    "final_vol_dict = {}\n",
    "final_vol_list = []\n",
    "\n",
    "for name in mouse_ids:\n",
    "    mouse_df = study_merged_df.loc[study_merged_df[\"Mouse ID\"]==name]\n",
    "    drug_regimen = mouse_df.iloc[-1,1]\n",
    "    final_vol = mouse_df.iloc[-1,6]\n",
    "    final_vol_dict = {\"Mouse ID\": name, \"Drug Regimen\": drug_regimen, \"Final Tumor Volume (mm3)\": final_vol}\n",
    "    final_vol_list.append(final_vol_dict)\n",
    "\n",
    "final_vol_df = pd.DataFrame(final_vol_list)\n",
    "\n",
    "Capomulin_tumorvol = final_vol_df.loc[final_vol_df[\"Drug Regimen\"] == \"Capomulin\",\"Final Tumor Volume (mm3)\"]\n",
    "Ramicane_tumorvol = final_vol_df.loc[final_vol_df[\"Drug Regimen\"] == \"Ramicane\",\"Final Tumor Volume (mm3)\"]\n",
    "Infubinol_tumorvol = final_vol_df.loc[final_vol_df[\"Drug Regimen\"] == \"Infubinol\",\"Final Tumor Volume (mm3)\"]\n",
    "Ceftamin_tumorvol = final_vol_df.loc[final_vol_df[\"Drug Regimen\"] == \"Ceftamin\",\"Final Tumor Volume (mm3)\"]"
   ]
  },
  {
   "cell_type": "code",
   "execution_count": 14,
   "metadata": {},
   "outputs": [
    {
     "name": "stdout",
     "output_type": "stream",
     "text": [
      "Capomulin Potential Outliers:\n",
      "Above 51.83mm3, Below 20.7mm3\n",
      "Potential Outlier Mouse IDs: []\n",
      "--------------------------------------\n",
      "Ramicane Potential Outliers:\n",
      "Above 54.31mm3, Below 17.91mm3\n",
      "Potential Outlier Mouse IDs: []\n",
      "--------------------------------------\n",
      "Infubinol Potential Outliers:\n",
      "Above 82.74mm3, Below 36.83mm3\n",
      "Potential Outlier Mouse IDs: ['c326']\n",
      "--------------------------------------\n",
      "Ceftamin Potential Outliers:\n",
      "Above 87.67mm3, Below 25.36mm3\n",
      "Potential Outlier Mouse IDs: []\n",
      "--------------------------------------\n"
     ]
    }
   ],
   "source": [
    "#Question: Are we supposed to find quartiles, IQR, etc. for the final tumor vol data or overall?\n",
    "\n",
    "# Put top 4 treatments into a list for for loop \n",
    "top_4_drugs = [\"Capomulin\",\"Ramicane\",\"Infubinol\",\"Ceftamin\"]\n",
    "\n",
    "# Calculate the IQR and quantitatively determine potential outliers. Print results \n",
    "\n",
    "for drug in top_4_drugs:\n",
    "    potential_outlier_list = []\n",
    "    \n",
    "    drug_df = final_vol_df.loc[final_vol_df[\"Drug Regimen\"] == drug,\"Final Tumor Volume (mm3)\"]\n",
    "    \n",
    "    drug_quartiles = drug_df.quantile([.25,.5,.75])\n",
    "    drug_lowerq = drug_quartiles[0.25]\n",
    "    drug_upperq = drug_quartiles[0.75]\n",
    "    drug_iqr = drug_upperq-drug_lowerq\n",
    "\n",
    "    drug_lower_bound = round(drug_lowerq - (1.5*drug_iqr),2)\n",
    "    drug_upper_bound = round(drug_upperq + (1.5*drug_iqr),2)\n",
    "    \n",
    "    print(f\"{drug} Potential Outliers:\")\n",
    "    print(f\"Above {drug_upper_bound}mm3, Below {drug_lower_bound}mm3\")\n",
    "\n",
    "    drug_overall_df = final_vol_df.loc[final_vol_df[\"Drug Regimen\"] == drug]\n",
    "    potential_outlier_ids = drug_overall_df.loc[(drug_overall_df[\"Final Tumor Volume (mm3)\"]<drug_lower_bound) | (drug_overall_df[\"Final Tumor Volume (mm3)\"]>drug_upper_bound),\"Mouse ID\"]\n",
    "    \n",
    "    for name in potential_outlier_ids:\n",
    "        potential_outlier_list.append(name)\n",
    "    \n",
    "    print(f\"Potential Outlier Mouse IDs: {potential_outlier_list}\")\n",
    "    print(\"--------------------------------------\")\n",
    "    "
   ]
  },
  {
   "cell_type": "code",
   "execution_count": 15,
   "metadata": {},
   "outputs": [
    {
     "data": {
      "image/png": "[encoded data removed]",
      "text/plain": [
       "<Figure size 432x1080 with 4 Axes>"
      ]
     },
     "metadata": {
      "needs_background": "light"
     },
     "output_type": "display_data"
    }
   ],
   "source": [
    "#Question: Are we making a facet plot of box & whiskers?\n",
    "\n",
    "\n",
    "# Generate a box plot of the final tumor volume of each mouse across the top 4 drugs in single figure\n",
    "fig1, (ax1,ax2,ax3,ax4) = plt.subplots(4, sharex=True, figsize = (6,15))\n",
    "fig1.suptitle(\"Final Tumor Volume\")\n",
    "\n",
    "flierprops = dict(marker='*', markerfacecolor='r', markersize=12, markeredgecolor='r')\n",
    "\n",
    "ax1.set_ylabel(\"Tumor Volume (mm3)\")\n",
    "ax1.boxplot(Capomulin_tumorvol, sym=\"*\", flierprops=flierprops)\n",
    "ax1.legend([\"Capomulin\"])\n",
    "\n",
    "ax2.set_ylabel(\"Tumor Volume (mm3)\")\n",
    "ax2.boxplot(Ramicane_tumorvol, sym=\"*\", flierprops=flierprops)\n",
    "ax2.legend([\"Ramicane\"])\n",
    "\n",
    "ax3.set_ylabel(\"Tumor Volume (mm3)\")\n",
    "ax3.boxplot(Infubinol_tumorvol, sym=\"*\", flierprops=flierprops)\n",
    "ax3.legend([\"Infubinol\"])\n",
    "\n",
    "ax4.set_ylabel(\"Tumor Volume (mm3)\")\n",
    "ax4.boxplot(Ceftamin_tumorvol, sym=\"*\", flierprops=flierprops)\n",
    "ax4.legend([\"Ceftamin\"])\n",
    "\n",
    "plt.show()"
   ]
  },
  {
   "cell_type": "code",
   "execution_count": 16,
   "metadata": {},
   "outputs": [
    {
     "data": {
      "image/png": "[encoded data removed]",
      "text/plain": [
       "<Figure size 432x288 with 1 Axes>"
      ]
     },
     "metadata": {
      "needs_background": "light"
     },
     "output_type": "display_data"
    }
   ],
   "source": [
    "# Generate a line plot of tumor volume vs timepoint for a mouse treated with Capomulin (s185)\n",
    "cap_overall_df = study_merged_df.loc[study_merged_df[\"Drug Regimen\"] == \"Capomulin\"]\n",
    "s185_df = cap_overall_df.loc[cap_overall_df[\"Mouse ID\"]==\"s185\",[\"Timepoint\",\"Tumor Volume (mm3)\"]]\n",
    "s185_df = s185_df.set_index(\"Timepoint\")\n",
    "\n",
    "s185_plot, = plt.plot(s185_df,label=\"s185\")\n",
    "plt.title(\"s185 Tumor Volume\")\n",
    "plt.xlabel(\"Timepoint\")\n",
    "plt.ylabel(\"Tumor Volume (mm3)\")\n",
    "plt.legend(handles=[s185_plot],loc=\"best\")\n",
    "plt.show()"
   ]
  },
  {
   "cell_type": "code",
   "execution_count": 17,
   "metadata": {},
   "outputs": [
    {
     "data": {
      "image/png": "[encoded data removed]",
      "text/plain": [
       "<Figure size 432x288 with 1 Axes>"
      ]
     },
     "metadata": {
      "needs_background": "light"
     },
     "output_type": "display_data"
    }
   ],
   "source": [
    "# Generate a scatter plot of mouse weight versus average tumor volume for the Capomulin regimen\n",
    "\n",
    "cap_weightvol_df = cap_overall_df[[\"Weight (g)\",\"Tumor Volume (mm3)\"]]\n",
    "cap_weightvol_df = cap_weightvol_df.set_index(\"Weight (g)\")\n",
    "grouped_cap_weightvol_df = cap_weightvol_df.groupby(\"Weight (g)\")\n",
    "grouped_cap_weightvol_df = grouped_cap_weightvol_df.mean()\n",
    "grouped_cap_weightvol_df = grouped_cap_weightvol_df.reset_index()\n",
    "\n",
    "cap_x = grouped_cap_weightvol_df.iloc[:,1]\n",
    "cap_y = grouped_cap_weightvol_df.iloc[:,0]\n",
    "\n",
    "cap_weightvol_plot = plt.scatter(cap_x,cap_y)\n",
    "plt.title(\"Mouse Weight vs. Avg Tumor Volume\")\n",
    "plt.xlabel(\"Avg Tumor Volume (mm3)\")\n",
    "plt.ylabel(\"Mouse Weight (g)\")\n",
    "plt.legend([\"Capomulin\"],loc=\"best\")\n",
    "plt.show()"
   ]
  },
  {
   "cell_type": "code",
   "execution_count": 18,
   "metadata": {},
   "outputs": [
    {
     "data": {
      "image/png": "[encoded data removed]",
      "text/plain": [
       "<Figure size 432x288 with 1 Axes>"
      ]
     },
     "metadata": {
      "needs_background": "light"
     },
     "output_type": "display_data"
    }
   ],
   "source": [
    "# Calculate the correlation coefficient and linear regression model for mouse weight and average tumor volume for the Capomulin regimen\n",
    "(cap_slope, cap_intercept, cap_r, cap_p, cap_sem) = linregress(cap_x, cap_y)\n",
    "\n",
    "cap_fit = cap_slope * cap_x + cap_intercept\n",
    "line_eq = \"y=\" + str(round(cap_slope,2)) + \"x\" + str(round(cap_intercept,2))\n",
    "r_value = \"r=\" +str(round(cap_r,2))\n",
    "\n",
    "cap_weightvol_plot = plt.scatter(cap_x,cap_y)\n",
    "cap_fit = plt.plot(cap_x, cap_fit,\"r-\")\n",
    "plt.title(\"Mouse Weight vs. Avg Tumor Volume\")\n",
    "plt.annotate(line_eq,(38,16),color=\"red\")\n",
    "plt.annotate(r_value,(38,15),color=\"red\")\n",
    "plt.xlabel(\"Avg Tumor Volume (mm3)\")\n",
    "plt.ylabel(\"Mouse Weight (g)\")\n",
    "plt.legend([\"Linear Fit\",\"Capomulin Data\"])\n",
    "plt.show()"
   ]
  },
  {
   "cell_type": "code",
   "execution_count": null,
   "metadata": {},
   "outputs": [],
   "source": []
  }
 ],
 "metadata": {
  "kernelspec": {
   "display_name": "Python 3",
   "language": "python",
   "name": "python3"
  },
  "language_info": {
   "codemirror_mode": {
    "name": "ipython",
    "version": 3
   },
   "file_extension": ".py",
   "mimetype": "text/x-python",
   "name": "python",
   "nbconvert_exporter": "python",
   "pygments_lexer": "ipython3",
   "version": "3.7.6"
  }
 },
 "nbformat": 4,
 "nbformat_minor": 4
}
